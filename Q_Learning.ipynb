{
  "nbformat": 4,
  "nbformat_minor": 0,
  "metadata": {
    "colab": {
      "provenance": [],
      "gpuType": "T4"
    },
    "kernelspec": {
      "name": "python3",
      "display_name": "Python 3"
    },
    "language_info": {
      "name": "python"
    },
    "accelerator": "GPU"
  },
  "cells": [
    {
      "cell_type": "code",
      "execution_count": 1,
      "metadata": {
        "id": "I6sM2MhJozi-"
      },
      "outputs": [],
      "source": [
        "import numpy as np\n",
        "import matplotlib.pyplot as plt\n",
        "from typing import Tuple, List, Dict\n",
        "from tqdm import tqdm\n",
        "import random"
      ]
    },
    {
      "cell_type": "code",
      "source": [
        "class Terrain:\n",
        "\n",
        "    def __init__(self, dimension: int, origin: tuple, target: tuple):\n",
        "        # Grid - 0 is barrier, 1 is open area\n",
        "        self.grid = np.random.randint(0, 5, (dimension, dimension))\n",
        "        self.grid = np.where(self.grid > 0, 1, 0)\n",
        "\n",
        "        # Origin and Target\n",
        "        self.origin = origin\n",
        "        self.target = target\n",
        "        self.grid[origin] = 1\n",
        "        self.grid[target] = 1\n",
        "\n",
        "        # Movement Options\n",
        "        self.movement_count = 4\n",
        "        self.movement_map = {\n",
        "            0: \"North\",\n",
        "            1: \"South\",\n",
        "            2: \"West\",\n",
        "            3: \"East\"\n",
        "        }\n",
        "\n",
        "    # Executes a move and returns the next location, reward\n",
        "    def advance(self, position: tuple, move: int):\n",
        "\n",
        "        x, y = position\n",
        "\n",
        "        if move == 0: # North\n",
        "            x = max(x - 1, 0)\n",
        "        elif move == 1: # South\n",
        "            x = min(x + 1, self.grid.shape[0] - 1)\n",
        "        elif move == 2: # West\n",
        "            y = max(y - 1, 0)\n",
        "        elif move == 3: # East\n",
        "            y = min(y + 1, self.grid.shape[1] - 1)\n",
        "\n",
        "        finished = False\n",
        "        new_position = (x, y)\n",
        "\n",
        "        if new_position == self.target:\n",
        "            reward = 100\n",
        "            finished = True\n",
        "        elif self.grid[new_position] == 0: # Barrier\n",
        "            reward = -100\n",
        "            new_position = position # Remain in the same position\n",
        "        elif new_position == position:\n",
        "            reward = -100 # Penalty for not moving\n",
        "        else:\n",
        "            reward = -10\n",
        "\n",
        "        return new_position, reward, finished\n",
        "\n",
        "    def display(self):\n",
        "        plt.imshow(self.grid, cmap='gray')\n",
        "        plt.title('2D Terrain Grid')\n",
        "        plt.show()"
      ],
      "metadata": {
        "id": "tcFROwvTqBaL"
      },
      "execution_count": 2,
      "outputs": []
    },
    {
      "cell_type": "code",
      "source": [
        "class Agent:\n",
        "    def __init__(self, terrain: Terrain, gamma: float, alpha: float, epsilon: float):\n",
        "        self.terrain = terrain\n",
        "        self.gamma = gamma\n",
        "        self.alpha = alpha\n",
        "        self.epsilon = epsilon\n",
        "        # Biased Q\n",
        "\n",
        "        self.q_table = np.zeros((terrain.grid.shape[0], terrain.grid.shape[1], terrain.movement_count))\n",
        "        for i in range(terrain.grid.shape[0]):\n",
        "            for j in range(terrain.grid.shape[1]):\n",
        "                if terrain.grid[i][j] == 0:\n",
        "\n",
        "                    # Left cell\n",
        "                    if j > 0 and terrain.grid[i][j-1] == 1:\n",
        "                        self.q_table[i][j-1][3] = -1000\n",
        "                    # Right cell\n",
        "                    if j < terrain.grid.shape[1] - 1 and terrain.grid[i][j+1] == 1:\n",
        "                        self.q_table[i][j+1][2] = -1000\n",
        "                    # Up cell\n",
        "                    if i > 0 and terrain.grid[i-1][j] == 1:\n",
        "                        self.q_table[i-1][j][1] = -1000\n",
        "                    # Down cell\n",
        "                    if i < terrain.grid.shape[0] - 1 and terrain.grid[i+1][j] == 1:\n",
        "                        self.q_table[i+1][j][0] = -1000\n",
        "\n",
        "    # Epsilon Greedy Policy\n",
        "    def choose_action(self, state: tuple):\n",
        "        if np.random.uniform(0, 1) < self.epsilon:\n",
        "            return np.random.choice(self.terrain.movement_count)\n",
        "        else:\n",
        "            return np.argmax(self.q_table[state])\n",
        "\n",
        "    # Q-Learning\n",
        "    def update(self, state: tuple, action: int, reward: float, next_state: tuple):\n",
        "        predict = self.q_table[state][action]\n",
        "        target = reward + self.gamma * np.max(self.q_table[next_state])\n",
        "        self.q_table[state][action] += self.alpha * (target - predict)\n",
        "\n",
        "\n",
        "    def train(self, episodes: int):\n",
        "\n",
        "        for episode in tqdm(range(episodes), desc=\"Training Progress\"):\n",
        "            done = False\n",
        "            steps = 0\n",
        "            state = self.terrain.origin\n",
        "\n",
        "            while not done:\n",
        "                action = self.choose_action(state)\n",
        "                next_state, reward, done = self.terrain.advance(state, action)\n",
        "                self.update(state, action, reward, next_state)\n",
        "                state = next_state\n",
        "                steps += 1\n",
        "\n",
        "        print('Training Completed!')\n",
        "\n",
        "    def get_optimal_policy(self):\n",
        "        policy = [[None for _ in range(self.terrain.grid.shape[1])] for _ in range(self.terrain.grid.shape[0])]\n",
        "        for i in range(self.terrain.grid.shape[0]):\n",
        "            for j in range(self.terrain.grid.shape[1]):\n",
        "                max_indices = np.argwhere(self.q_table[i][j] == np.max(self.q_table[i][j])).flatten().tolist()\n",
        "                policy[i][j] = max_indices\n",
        "        return policy\n",
        "\n",
        "    def visualize_optimal_policy(self):\n",
        "        paths = []\n",
        "        policy = self.get_optimal_policy()\n",
        "\n",
        "        def backtrack(state, path):\n",
        "\n",
        "            if len(paths) > 10:\n",
        "                return\n",
        "\n",
        "            if state == self.terrain.target:\n",
        "                paths.append(path.copy())\n",
        "                return\n",
        "\n",
        "            for action in policy[state[0]][state[1]]:\n",
        "                next_state, _, _ = self.terrain.advance(state, action)\n",
        "\n",
        "                if next_state in path:\n",
        "                    continue\n",
        "\n",
        "                path.append(next_state)\n",
        "                backtrack(next_state, path)\n",
        "                path.pop()\n",
        "\n",
        "        backtrack(self.terrain.origin, [self.terrain.origin])\n",
        "\n",
        "        if len(paths) == 0:\n",
        "            plt.title('No Optimal Path Found!')\n",
        "\n",
        "        for idx, path in enumerate(paths):\n",
        "            grid = 1 - self.terrain.grid.copy()\n",
        "            for i, j in path:\n",
        "                grid[i][j] = 2\n",
        "\n",
        "            plt.title(f'Optimal Path {idx+1}')\n",
        "            plt.imshow(grid, cmap=plt.colormaps.get_cmap('Reds'))\n",
        "            plt.show()\n",
        "\n",
        "            if idx == 10:\n",
        "                break"
      ],
      "metadata": {
        "id": "lc2jFLQNqNbh"
      },
      "execution_count": 3,
      "outputs": []
    },
    {
      "cell_type": "code",
      "source": [
        "SIZE = 100\n",
        "\n",
        "terrain = Terrain(dimension=SIZE, origin=(0, 0), target=(SIZE-1, SIZE-1))\n",
        "agent = Agent(terrain, gamma=0.9, alpha=0.1, epsilon=0.3)\n",
        "\n",
        "terrain.display()"
      ],
      "metadata": {
        "colab": {
          "base_uri": "https://localhost:8080/",
          "height": 452
        },
        "id": "4pBjcoMUqfqg",
        "outputId": "be1bdbab-4bc5-4605-eba6-c94dd4719752"
      },
      "execution_count": 4,
      "outputs": [
        {
          "output_type": "display_data",
          "data": {
            "text/plain": [
              "<Figure size 640x480 with 1 Axes>"
            ],
            "image/png": "[encoded data removed]"
          },
          "metadata": {}
        }
      ]
    },
    {
      "cell_type": "code",
      "source": [
        "agent.train(episodes=10000)"
      ],
      "metadata": {
        "colab": {
          "base_uri": "https://localhost:8080/"
        },
        "id": "bxREJkxHqkZz",
        "outputId": "e3f8b7f6-21ea-4c50-e08f-b557fb576ad5"
      },
      "execution_count": null,
      "outputs": [
        {
          "output_type": "stream",
          "name": "stderr",
          "text": [
            "\rTraining Progress:   0%|          | 0/10000 [00:00<?, ?it/s]"
          ]
        }
      ]
    },
    {
      "cell_type": "code",
      "source": [
        "agent.visualize_optimal_policy()"
      ],
      "metadata": {
        "id": "GSLAXDD2rBJ0"
      },
      "execution_count": null,
      "outputs": []
    }
  ]
}